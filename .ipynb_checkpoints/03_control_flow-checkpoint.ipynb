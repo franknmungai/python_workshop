{
 "cells": [
  {
   "cell_type": "markdown",
   "id": "da9327cb",
   "metadata": {},
   "source": [
    "## `if else` statements\n",
    "\n",
    "Are used to execute code only if a certain condition is satisfied. They are used with Boolean values to create conditional logic and to write decision-driven code"
   ]
  },
  {
   "cell_type": "code",
   "execution_count": 1,
   "id": "02a8ed48",
   "metadata": {
    "scrolled": true
   },
   "outputs": [
    {
     "name": "stdout",
     "output_type": "stream",
     "text": [
      "22 is greater 13\n"
     ]
    }
   ],
   "source": [
    "x = 13\n",
    "y = 22\n",
    "\n",
    "if x > y:\n",
    "    print(f'{x} is greater {y}')\n",
    "else:\n",
    "    print(f'{y} is greater {x}')"
   ]
  },
  {
   "cell_type": "markdown",
   "id": "18af173f",
   "metadata": {},
   "source": [
    "The program evaluates the test expression after the `if` statement and then runs the code within the if statement only if the test expression is True. The body of an if statement must be indented. Any code following a test expression that isn't indented will always be run.\n",
    "\n",
    "Syntax: \n",
    "```\n",
    "if text_expression:\n",
    "    statement(s)\n",
    "    \n",
    "else:\n",
    "    statement(s)\n",
    "```\n",
    "\n",
    "The code in the `else` block will be executed when the expression is False"
   ]
  },
  {
   "cell_type": "markdown",
   "id": "92fa5288",
   "metadata": {},
   "source": [
    "We can check for multiple conditions and expressions using `elif` statements. `elif` is short form for else if.\n",
    "\n",
    "If the condition for `if` is `False`, it checks the condition of the next `elif` block and so on.\n",
    "\n",
    "If all the conditions are `False`, the body of `else` is executed.\n",
    "\n",
    "Only one block among the several `if...elif...else` blocks is executed according to the condition.\n",
    "\n",
    "The `if` block can have only one `else` block. But it can have multiple `elif` blocks."
   ]
  },
  {
   "cell_type": "code",
   "execution_count": 9,
   "id": "9186c8f8",
   "metadata": {},
   "outputs": [
    {
     "name": "stdout",
     "output_type": "stream",
     "text": [
      "Grade A\n",
      "Excellent\n"
     ]
    }
   ],
   "source": [
    "score = 70\n",
    "\n",
    "if score >= 70:\n",
    "    print('Grade A')\n",
    "    print('Excellent')\n",
    "elif score >= 60 and score < 70:\n",
    "    print('Grade B')\n",
    "    print('Good')\n",
    "elif score >= 50 and score < 60:\n",
    "    print('Grade C')\n",
    "    print('Fair')\n",
    "elif score >= 40 and score < 50:\n",
    "    print('Grade D')\n",
    "    print('Average')\n",
    "else: \n",
    "    print('Grade E')\n",
    "    print('Poor')"
   ]
  },
  {
   "cell_type": "code",
   "execution_count": 16,
   "id": "5ebb6cd6",
   "metadata": {},
   "outputs": [
    {
     "name": "stdout",
     "output_type": "stream",
     "text": [
      "Grade E\n"
     ]
    }
   ],
   "source": [
    "score = 31\n",
    "\n",
    "if score >= 70:\n",
    "    print('Grade A')\n",
    "elif 60 <= score < 70:\n",
    "    print('Grade B')\n",
    "elif 50 <= score < 60:\n",
    "    print('Grade C')\n",
    "elif 40 <= score < 50:\n",
    "    print('Grade D')\n",
    "else: \n",
    "    print('Grade E')"
   ]
  },
  {
   "cell_type": "markdown",
   "id": "afbc243d",
   "metadata": {},
   "source": [
    "We can also nest `if` and `elif` and `else` statements"
   ]
  },
  {
   "cell_type": "code",
   "execution_count": 20,
   "id": "60253269",
   "metadata": {},
   "outputs": [
    {
     "name": "stdout",
     "output_type": "stream",
     "text": [
      "109 is the largest\n"
     ]
    }
   ],
   "source": [
    "a = 109\n",
    "b = 73\n",
    "c = 41\n",
    "\n",
    "#Determine the largest\n",
    "\n",
    "if a > b:\n",
    "    if a > c:\n",
    "        print(f'{a} is the largest')\n",
    "    else:\n",
    "        print(f'{c} is the largest')\n",
    "else: # b > a\n",
    "    if b > c:\n",
    "        print(f'{b} is the largest')\n",
    "    else:\n",
    "        print(f'{c} is the largest')"
   ]
  },
  {
   "cell_type": "markdown",
   "id": "16c1eb87",
   "metadata": {},
   "source": [
    "## Loops\n",
    "Loops are used to execute a block of code or perform an operation repeatedly"
   ]
  },
  {
   "cell_type": "markdown",
   "id": "7336d061",
   "metadata": {},
   "source": [
    "### `while` loop\n",
    "\n",
    "The `while` loop executes a block of code as long as the test expression is True"
   ]
  },
  {
   "cell_type": "code",
   "execution_count": 25,
   "id": "1f051363",
   "metadata": {},
   "outputs": [
    {
     "name": "stdout",
     "output_type": "stream",
     "text": [
      "55\n"
     ]
    }
   ],
   "source": [
    "#Will find the sum of numbers 1-10\n",
    "total = 0\n",
    "num = 1\n",
    "\n",
    "while num <= 10:\n",
    "    total += num\n",
    "    num += 1\n",
    "    \n",
    "print(total)"
   ]
  },
  {
   "cell_type": "markdown",
   "id": "fec9bfef",
   "metadata": {},
   "source": [
    "`while` loops can also have an optional `else` block.\n",
    "\n",
    "The else part is executed if the condition in the while loop evaluates to False."
   ]
  },
  {
   "cell_type": "code",
   "execution_count": 26,
   "id": "f4b3b7f7",
   "metadata": {},
   "outputs": [
    {
     "name": "stdout",
     "output_type": "stream",
     "text": [
      "120\n"
     ]
    }
   ],
   "source": [
    "#get the factorial of the value num\n",
    "\n",
    "num = 5\n",
    "product = 1\n",
    "while num > 0:\n",
    "    product *= num\n",
    "    num -= 1\n",
    "else:\n",
    "    print(product)    "
   ]
  },
  {
   "cell_type": "code",
   "execution_count": null,
   "id": "8ae6953f",
   "metadata": {},
   "outputs": [],
   "source": [
    "#Finds the sum of even between 1-20\n",
    "\n",
    "n = 1\n",
    "sum_even = 0\n",
    "\n",
    "while n <= 20:\n",
    "    if n % 2 == 0: #Check for divisibility\n",
    "        sum_even += n\n",
    "else:\n",
    "    print(sum_even)"
   ]
  },
  {
   "cell_type": "markdown",
   "id": "d4be2989",
   "metadata": {},
   "source": [
    "### `for` loop\n",
    "\n",
    "`for` loop is often used to iterate over a collection or iterable"
   ]
  },
  {
   "cell_type": "code",
   "execution_count": 27,
   "id": "71da7ee2",
   "metadata": {},
   "outputs": [
    {
     "name": "stdout",
     "output_type": "stream",
     "text": [
      "1\n",
      "2\n",
      "3\n",
      "4\n",
      "5\n"
     ]
    }
   ],
   "source": [
    "numbers = [1, 2, 3, 4, 5]\n",
    "\n",
    "for i in numbers:\n",
    "    print(i)"
   ]
  },
  {
   "cell_type": "code",
   "execution_count": 28,
   "id": "87fcbb2c",
   "metadata": {},
   "outputs": [
    {
     "name": "stdout",
     "output_type": "stream",
     "text": [
      "15\n"
     ]
    }
   ],
   "source": [
    "total = 0\n",
    "\n",
    "for i in numbers:\n",
    "    total += i\n",
    "print(total)"
   ]
  },
  {
   "cell_type": "code",
   "execution_count": null,
   "id": "26591a47",
   "metadata": {},
   "outputs": [],
   "source": [
    "We can generate a sequence of numbers using `range()` function. `range(10)` will generate numbers from 0 to 9 (10 numbers`).\n",
    "\n",
    "We can also define the `start`, stop and step size as range(start, stop,step_size). step_size defaults to 1 if not provided."
   ]
  }
 ],
 "metadata": {
  "kernelspec": {
   "display_name": "Python 3 (ipykernel)",
   "language": "python",
   "name": "python3"
  },
  "language_info": {
   "codemirror_mode": {
    "name": "ipython",
    "version": 3
   },
   "file_extension": ".py",
   "mimetype": "text/x-python",
   "name": "python",
   "nbconvert_exporter": "python",
   "pygments_lexer": "ipython3",
   "version": "3.9.12"
  }
 },
 "nbformat": 4,
 "nbformat_minor": 5
}
